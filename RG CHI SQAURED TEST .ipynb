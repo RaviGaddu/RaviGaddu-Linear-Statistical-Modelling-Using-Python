{
 "cells": [
  {
   "cell_type": "markdown",
   "id": "6e7133ae-9484-4eba-aadb-28a4c7970258",
   "metadata": {},
   "source": [
    "Hypothetical Observational Data:\n",
    "\n",
    "We'll create a contingency table with observed counts for each combination of habitat type and plant presence.\n",
    "Plant         Present\t  Plant Absent\t    Row Total\n",
    "Forest      \t25            15\t            40\n",
    "Grassland   \t10\t          30\t            40\n",
    "Wetland\t        20\t          10\t            30\n",
    "Column Total\t55\t          55\t            110\n",
    "\n",
    "Chi-squared Test:\n",
    "The Chi-squared test will help us determine if there is a significant association between the type of habitat and the presence of the plant species.\n",
    "\n",
    "Observed Contingency Table:\n",
    "Plant      Present\tPlant Absent\n",
    "Forest\t      25\t15\n",
    "Grassland\t  10\t30\n",
    "Wetland\t     20\t    10\n"
   ]
  },
  {
   "cell_type": "code",
   "execution_count": 1,
   "id": "9cb76a52-d4ec-4979-a003-11294069c61e",
   "metadata": {},
   "outputs": [],
   "source": [
    "import numpy as np\n",
    "from scipy.stats import chi2"
   ]
  },
  {
   "cell_type": "code",
   "execution_count": 2,
   "id": "fad76f21-e07a-4501-90f3-c008fc6d247e",
   "metadata": {},
   "outputs": [],
   "source": [
    "# Observed frequencies\n",
    "observed = np.array([[25, 15],\n",
    "                     [10, 30],\n",
    "                     [20, 10]])"
   ]
  },
  {
   "cell_type": "code",
   "execution_count": 3,
   "id": "8e87fa65-13c1-4cc6-a6fb-13f72e7f573a",
   "metadata": {},
   "outputs": [],
   "source": [
    "# Step 1: Calculate the row totals, column totals, and grand total\n",
    "row_totals = observed.sum(axis=1)\n",
    "col_totals = observed.sum(axis=0)\n",
    "grand_total = observed.sum()\n"
   ]
  },
  {
   "cell_type": "code",
   "execution_count": 4,
   "id": "49176c52-372f-400b-8364-c6acde2c8e39",
   "metadata": {},
   "outputs": [],
   "source": [
    "# Step 2: Calculate the expected frequencies\n",
    "expected = np.outer(row_totals, col_totals) / grand_total\n",
    "\n",
    "# Step 3: Compute the Chi-squared statistic\n",
    "chi_squared_statistic = ((observed - expected) ** 2 / expected).sum()\n",
    "\n",
    "# Step 4: Determine the degrees of freedom\n",
    "degrees_of_freedom = (observed.shape[0] - 1) * (observed.shape[1] - 1)\n",
    "\n",
    "# Step 5: Calculate the p-value\n",
    "p_value = chi2.sf(chi_squared_statistic, degrees_of_freedom)\n",
    "\n",
    "# Step 6: Compare the p-value with the significance level\n",
    "significance_level = 0.05\n",
    "reject_null = p_value < significance_level"
   ]
  },
  {
   "cell_type": "code",
   "execution_count": 5,
   "id": "1fefe96a-f2c8-4d71-9e48-80b94b42b142",
   "metadata": {},
   "outputs": [
    {
     "data": {
      "text/plain": [
       "(15.833333333333332,\n",
       " 0.0003646156887302733,\n",
       " 2,\n",
       " True,\n",
       " array([[20., 20.],\n",
       "        [20., 20.],\n",
       "        [15., 15.]]))"
      ]
     },
     "execution_count": 5,
     "metadata": {},
     "output_type": "execute_result"
    }
   ],
   "source": [
    "# Output the results\n",
    "chi_squared_statistic, p_value, degrees_of_freedom, reject_null, expected\n"
   ]
  },
  {
   "cell_type": "markdown",
   "id": "43a53974-b2d2-4ff4-a8d3-49fd464bea0c",
   "metadata": {},
   "source": [
    "P value of 0.0003, suggests to reject the null hypothesis, which means there is a significant association between the type of habitat and the presence of the plant species\n",
    "\n",
    "The chi squared statistics of 15.8 means the observed frequencies deviate from the expected frequencies under the null hypoothesis. a higher value indicates  greater deviation.."
   ]
  },
  {
   "cell_type": "code",
   "execution_count": null,
   "id": "de89dc20-1385-434d-966d-59431d1eb78f",
   "metadata": {},
   "outputs": [],
   "source": []
  }
 ],
 "metadata": {
  "kernelspec": {
   "display_name": "Python 3 (ipykernel)",
   "language": "python",
   "name": "python3"
  },
  "language_info": {
   "codemirror_mode": {
    "name": "ipython",
    "version": 3
   },
   "file_extension": ".py",
   "mimetype": "text/x-python",
   "name": "python",
   "nbconvert_exporter": "python",
   "pygments_lexer": "ipython3",
   "version": "3.11.7"
  }
 },
 "nbformat": 4,
 "nbformat_minor": 5
}
