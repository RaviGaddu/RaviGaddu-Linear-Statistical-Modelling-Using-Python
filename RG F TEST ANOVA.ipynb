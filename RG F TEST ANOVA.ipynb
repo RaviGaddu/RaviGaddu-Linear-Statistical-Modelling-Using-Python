{
 "cells": [
  {
   "cell_type": "code",
   "execution_count": 1,
   "id": "2b31e881-8813-49f8-ad86-137dd88e51fa",
   "metadata": {},
   "outputs": [],
   "source": [
    "import numpy as np\n",
    "from scipy import stats"
   ]
  },
  {
   "cell_type": "code",
   "execution_count": 2,
   "id": "5a596737-839d-4a3c-bb76-d94ea826ccae",
   "metadata": {},
   "outputs": [
    {
     "name": "stdout",
     "output_type": "stream",
     "text": [
      "F-statistic: 5601.066037735692\n",
      "P-value: 4.4028840806937434e-36\n",
      "There is a significant difference between the groups.\n"
     ]
    }
   ],
   "source": [
    "# Data for each fish species\n",
    "clownfish = [10.2, 11.3, 10.8, 11.0, 10.5, 10.7, 11.1, 10.9, 11.2, 10.4]\n",
    "blue_tang = [20.5, 21.3, 20.8, 21.0, 20.6, 20.9, 21.4, 20.7, 21.1, 20.8]\n",
    "surgeonfish = [25.4, 26.2, 25.8, 26.1, 25.7, 26.3, 25.9, 26.0, 25.6, 26.4]\n",
    "\n",
    "# Perform one-way ANOVA\n",
    "f_statistic, p_value = stats.f_oneway(clownfish, blue_tang, surgeonfish)\n",
    "\n",
    "# Print the results\n",
    "print(f\"F-statistic: {f_statistic}\")\n",
    "print(f\"P-value: {p_value}\")\n",
    "\n",
    "# Interpret the results\n",
    "alpha = 0.05\n",
    "if p_value < alpha:\n",
    "    print(\"There is a significant difference between the groups.\")\n",
    "else:\n",
    "    print(\"There is no significant difference between the groups.\")"
   ]
  },
  {
   "cell_type": "markdown",
   "id": "d54198da-0790-42c9-ba12-df1bcd52f84f",
   "metadata": {},
   "source": [
    "Output\n",
    "The F-statistic tells you how much the group means differ relative to the variability within the groups.\n",
    "The p-value tells you whether the observed differences are statistically significant. If the p-value is less than your chosen significance level (typically 0.05), you reject the null hypothesis and conclude that there are significant differences among the groups.\n",
    "This Python code performs a one-way ANOVA test, which is appropriate here since you are comparing the means of more than two groups. If you had additional data, such as covariates or more complex experimental designs, you might need different types of ANOVA or other statistical tests.\n"
   ]
  }
 ],
 "metadata": {
  "kernelspec": {
   "display_name": "Python 3 (ipykernel)",
   "language": "python",
   "name": "python3"
  },
  "language_info": {
   "codemirror_mode": {
    "name": "ipython",
    "version": 3
   },
   "file_extension": ".py",
   "mimetype": "text/x-python",
   "name": "python",
   "nbconvert_exporter": "python",
   "pygments_lexer": "ipython3",
   "version": "3.11.7"
  }
 },
 "nbformat": 4,
 "nbformat_minor": 5
}
