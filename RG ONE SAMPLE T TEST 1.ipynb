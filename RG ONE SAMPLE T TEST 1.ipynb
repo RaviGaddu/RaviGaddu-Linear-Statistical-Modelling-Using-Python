{
 "cells": [
  {
   "cell_type": "markdown",
   "id": "045753a0-2c86-4268-9e91-c4e653f3aaa9",
   "metadata": {},
   "source": [
    "A one-sample t-test is used to determine whether the mean of a single sample is significantly different from a known or hypothesized population mean. We want to test if the mean net worth of billionaires in one of the industries (say, the Technology Industry) is significantly different from a hypothesized population mean.\n",
    "\r\n",
    "Let's hypothesize that the average net worth of billionaires across all industries in the USA is $80 billion.\n",
    "."
   ]
  },
  {
   "cell_type": "code",
   "execution_count": 1,
   "id": "4141f6b3-733f-4b9c-8f9f-184b94540585",
   "metadata": {},
   "outputs": [],
   "source": [
    "import numpy as np\n",
    "from scipy import stats"
   ]
  },
  {
   "cell_type": "code",
   "execution_count": 2,
   "id": "cc05c2cf-33c5-4b75-bc94-e671dafc5ff7",
   "metadata": {},
   "outputs": [],
   "source": [
    "def one_sample_t_test(data, population_mean):\n",
    "    \"\"\"\n",
    "    Perform a one-sample t-test.\n",
    "\n",
    "    Parameters:\n",
    "    data (list or np.array): Sample data.\n",
    "    population_mean (float): Hypothesized population mean.\n",
    "\n",
    "    Returns:\n",
    "    tuple: t-statistic and p-value.\n",
    "    \"\"\"\n",
    "    # Convert data to a numpy array if it's not already\n",
    "    data = np.array(data)\n",
    "   \n",
    "    # Perform the one-sample t-test\n",
    "    t_stat, p_value = stats.ttest_1samp(data, population_mean)\n",
    "   \n",
    "    return t_stat, p_value"
   ]
  },
  {
   "cell_type": "code",
   "execution_count": 3,
   "id": "7e83fbfc-8485-4bfa-b65b-ba534e31ebf3",
   "metadata": {},
   "outputs": [
    {
     "name": "stdout",
     "output_type": "stream",
     "text": [
      "T-statistic: 1.106, P-value: 0.297\n"
     ]
    }
   ],
   "source": [
    "# Example usage with the Technology Industry data\n",
    "tech_net_worth = [120.5, 75.3, 68.4, 95.6, 110.2, 89.0, 56.3, 73.8, 97.1, 82.4]\n",
    "hypothesized_mean = 80\n",
    "\n",
    "t_stat, p_value = one_sample_t_test(tech_net_worth, hypothesized_mean)\n",
    "print(f\"T-statistic: {t_stat:.3f}, P-value: {p_value:.3f}\")"
   ]
  },
  {
   "cell_type": "markdown",
   "id": "2a321522-2e1c-499a-8ccc-afd85deca1bc",
   "metadata": {},
   "source": [
    "The t-statistic of 1.106 indicates how many standard deviations the sample mean is away from the hypothesized population mean of $80 billion.\n",
    "\n",
    "Since the p-value is much higher than the common significance level of 0.05, we fail to reject the null hypothesis. This means that there is not enough evidence to conclude that the mean net worth of billionaires in the Technology Industry is significantly different from $80 billion. ​"
   ]
  },
  {
   "cell_type": "code",
   "execution_count": null,
   "id": "fcf36786-a47b-433d-b640-dbc0f8ea19dc",
   "metadata": {},
   "outputs": [],
   "source": []
  },
  {
   "cell_type": "code",
   "execution_count": null,
   "id": "85752d48-6e87-4f8b-bc0d-3bc4132bc313",
   "metadata": {},
   "outputs": [],
   "source": []
  }
 ],
 "metadata": {
  "kernelspec": {
   "display_name": "Python 3 (ipykernel)",
   "language": "python",
   "name": "python3"
  },
  "language_info": {
   "codemirror_mode": {
    "name": "ipython",
    "version": 3
   },
   "file_extension": ".py",
   "mimetype": "text/x-python",
   "name": "python",
   "nbconvert_exporter": "python",
   "pygments_lexer": "ipython3",
   "version": "3.11.7"
  }
 },
 "nbformat": 4,
 "nbformat_minor": 5
}
