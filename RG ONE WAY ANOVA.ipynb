{
 "cells": [
  {
   "cell_type": "markdown",
   "id": "f8538cd1-5ed0-495f-b503-02233a33aaba",
   "metadata": {},
   "source": [
    "fictional dataset related to show business, such as the box office earnings of three different genres of movies (Action, Comedy, and Drama) over a weekend. We'll then perform a one-way ANOVA test to see if there's a significant difference in the earnings among these genres.\r\n"
   ]
  },
  {
   "cell_type": "code",
   "execution_count": 12,
   "id": "af8096ec-e117-41af-af6c-b80d3f695c26",
   "metadata": {},
   "outputs": [
    {
     "data": {
      "text/plain": [
       "(26.880000000000003, 3.6924672247300125e-05)"
      ]
     },
     "execution_count": 12,
     "metadata": {},
     "output_type": "execute_result"
    }
   ],
   "source": [
    "import scipy.stats as stats\n",
    "import numpy as np\n",
    "\n",
    "# Generate the dataset\n",
    "action_earnings = [10, 15, 14, 12, 13]\n",
    "comedy_earnings = [8, 9, 7, 6, 10]\n",
    "drama_earnings = [6, 7, 5, 4, 6]\n",
    "\n",
    "# Perform one-way ANOVA\n",
    "f_statistic, p_value = stats.f_oneway(action_earnings, comedy_earnings, drama_earnings)\n",
    "\n",
    "# Output the results\n",
    "f_statistic, p_value\n"
   ]
  },
  {
   "cell_type": "markdown",
   "id": "403fe0a3-d846-4c61-a718-f63f8502028d",
   "metadata": {},
   "source": [
    "The results of the one-way ANOVA test are:\r\n",
    "F-statistic: 26.88\r\n",
    "P-value: 3.692e-05\r\n",
    "Interpretation\r\n",
    "The F-statistic value of 26.88 indicates that there is a significant variation between the earnings of the different movie genres. The P-value is very low (3.692e-05), which is much less than the common significance level of 0.05.\r\n",
    "This means that we reject the null hypothesis and conclude that there is a statistically significant difference in the box office earnings among the Action, Comedy, and Drama genres. ​es. ​s. ​"
   ]
  },
  {
   "cell_type": "code",
   "execution_count": null,
   "id": "893b0118-1e60-476c-99df-b84846fe7ae7",
   "metadata": {},
   "outputs": [],
   "source": []
  }
 ],
 "metadata": {
  "kernelspec": {
   "display_name": "Python 3 (ipykernel)",
   "language": "python",
   "name": "python3"
  },
  "language_info": {
   "codemirror_mode": {
    "name": "ipython",
    "version": 3
   },
   "file_extension": ".py",
   "mimetype": "text/x-python",
   "name": "python",
   "nbconvert_exporter": "python",
   "pygments_lexer": "ipython3",
   "version": "3.11.7"
  }
 },
 "nbformat": 4,
 "nbformat_minor": 5
}
