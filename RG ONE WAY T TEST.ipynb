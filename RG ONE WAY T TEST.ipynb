{
 "cells": [
  {
   "cell_type": "markdown",
   "id": "137a2209-9edf-40bc-b428-a09e3db52afa",
   "metadata": {},
   "source": [
    "A one-way t-test, also known as an independent samples t-test or two-sample t-test, is used to compare the means of two independent groups to determine if they are significantly different from each other. The data you provided is from two different groups (Technology Industry and Finance Industry), making it suitable for a one-way t-test.\n",
    "Here's a Python model to perform the one-way t-test with clear outcomes/outputs and explanations:\n",
    "    \n",
    "Data\n",
    "\n",
    "Technology Industry Net Worths:\n",
    "120.5, 75.3, 68.4, 95.6, 110.2, 89.0, 56.3, 73.8, 97.1, 82.4\n",
    "\n",
    "Finance Industry Net Worths:\n",
    "42.1, 58.2, 35.9, 64.0, 47.5, 51.3, 60.1, 39.7, 55.0, 48.6"
   ]
  },
  {
   "cell_type": "code",
   "execution_count": 2,
   "id": "67efbcbf-bdb5-4112-b31b-79a753e6a1be",
   "metadata": {},
   "outputs": [],
   "source": [
    "import numpy as np\n",
    "from scipy import stats"
   ]
  },
  {
   "cell_type": "code",
   "execution_count": 3,
   "id": "0eb0a273-6260-41b0-91ae-ac52af8a7cb3",
   "metadata": {},
   "outputs": [],
   "source": [
    "def one_way_t_test(data1, data2):\n",
    "    \"\"\"\n",
    "    Perform a one-way t-test (independent samples t-test).\n",
    "\n",
    "    Parameters:\n",
    "    data1 (list or np.array): Sample data from the first group.\n",
    "    data2 (list or np.array): Sample data from the second group.\n",
    "\n",
    "    Returns:\n",
    "    tuple: t-statistic and p-value.\n",
    "    \"\"\"\n",
    "    # Convert data to numpy arrays if they are not already\n",
    "    data1 = np.array(data1)\n",
    "    data2 = np.array(data2)\n",
    "   \n",
    "    # Perform the one-way t-test\n",
    "    t_stat, p_value = stats.ttest_ind(data1, data2)\n",
    "   \n",
    "    return t_stat, p_value"
   ]
  },
  {
   "cell_type": "code",
   "execution_count": 4,
   "id": "645fefc9-526c-49f2-a2a2-c19161e00c9c",
   "metadata": {},
   "outputs": [
    {
     "name": "stdout",
     "output_type": "stream",
     "text": [
      "T-statistic: 5.343, P-value: 0.000\n",
      "The difference between the means is statistically significant.\n"
     ]
    }
   ],
   "source": [
    "# Example usage with Technology and Finance Industry data\n",
    "tech_net_worth = [120.5, 75.3, 68.4, 95.6, 110.2, 89.0, 56.3, 73.8, 97.1, 82.4]\n",
    "finance_net_worth = [42.1, 58.2, 35.9, 64.0, 47.5, 51.3, 60.1, 39.7, 55.0, 48.6]\n",
    "\n",
    "t_stat, p_value = one_way_t_test(tech_net_worth, finance_net_worth)\n",
    "print(f\"T-statistic: {t_stat:.3f}, P-value: {p_value:.3f}\")\n",
    "\n",
    "# Interpretation\n",
    "if p_value < 0.05:\n",
    "    print(\"The difference between the means is statistically significant.\")\n",
    "else:\n",
    "    print(\"The difference between the means is not statistically significant.\")"
   ]
  },
  {
   "cell_type": "markdown",
   "id": "0d3afc64-f9d2-46ec-8671-8a965d266852",
   "metadata": {},
   "source": [
    "The t-statistic of 5.343 indicates a significant difference between the means of the two groups.\n",
    "The p-value of 0.000044 is much lower than the common significance level of 0.05.\n",
    "\n",
    "Given this p-value, we reject the null hypothesis and conclude that there is a statistically significant difference between the mean net worths of billionaires in the Technology Industry and those in the Finance Industry. ​\n"
   ]
  },
  {
   "cell_type": "code",
   "execution_count": null,
   "id": "d1bb950d-2999-4235-8dba-84d79dd3b495",
   "metadata": {},
   "outputs": [],
   "source": []
  }
 ],
 "metadata": {
  "kernelspec": {
   "display_name": "Python 3 (ipykernel)",
   "language": "python",
   "name": "python3"
  },
  "language_info": {
   "codemirror_mode": {
    "name": "ipython",
    "version": 3
   },
   "file_extension": ".py",
   "mimetype": "text/x-python",
   "name": "python",
   "nbconvert_exporter": "python",
   "pygments_lexer": "ipython3",
   "version": "3.11.7"
  }
 },
 "nbformat": 4,
 "nbformat_minor": 5
}
