{
 "cells": [
  {
   "cell_type": "markdown",
   "id": "aebe8a73-ffda-453b-bf9a-1feeab96a4de",
   "metadata": {},
   "source": [
    "One sample Z test\r\n",
    "\r\n",
    "Suppose a wildlife biologist is studying the average weight of a particular species of wild rabbits in a forest. The biologist knows from previous studies that the population mean weight of these rabbits is 2.5 kg with a standard deviation of 0.5 kg. The biologist collects a sample of 30 rabbits from a different area of the forest to determine if their average weight significantly differs from the known population mean.n.n.n.n.n.n.n."
   ]
  },
  {
   "cell_type": "code",
   "execution_count": 1,
   "id": "9d99f6cc-eb32-4cd0-9aa9-f93c21d8e6ab",
   "metadata": {},
   "outputs": [],
   "source": [
    "import numpy as np\n",
    "from scipy import stats"
   ]
  },
  {
   "cell_type": "code",
   "execution_count": 2,
   "id": "a40bfd50-b7f1-4f85-a410-6613e71a0eb4",
   "metadata": {},
   "outputs": [],
   "source": [
    "# Given data\n",
    "#Data Input: The weights of the 30 rabbits are stored in the weights list.\n",
    "weights = [\n",
    "    2.3, 2.7, 2.6, 2.4, 2.9, 2.8, 2.2, 2.5, 2.3, 2.6,\n",
    "    2.7, 2.4, 2.5, 2.6, 2.3, 2.4, 2.5, 2.7, 2.6, 2.3,\n",
    "    2.8, 2.7, 2.5, 2.4, 2.6, 2.2, 2.3, 2.7, 2.5, 2.6\n",
    "]"
   ]
  },
  {
   "cell_type": "code",
   "execution_count": 3,
   "id": "655f436d-f217-473c-9685-a5c51c198ad8",
   "metadata": {},
   "outputs": [],
   "source": [
    "# Population parameters\n",
    "# Population Parameters: The known population mean (2.5 kg) and standard deviation (0.5 kg) are defined.\n",
    "population_mean = 2.5\n",
    "population_std_dev = 0.5\n",
    "sample_size = len(weights)"
   ]
  },
  {
   "cell_type": "code",
   "execution_count": 4,
   "id": "a94a7bb9-7812-4aaf-bce2-d5122143a895",
   "metadata": {},
   "outputs": [],
   "source": [
    "# Calculate sample mean\n",
    "# Sample Mean Calculation: The mean of the sample data is calculated using np.mean(weights).\n",
    "sample_mean = np.mean(weights)\n"
   ]
  },
  {
   "cell_type": "code",
   "execution_count": 5,
   "id": "13b2797f-0a5b-4b61-a35a-1567778fbdc1",
   "metadata": {},
   "outputs": [],
   "source": [
    "# Calculate the z-score\n",
    "z_score = (sample_mean - population_mean) / (population_std_dev / np.sqrt(sample_size))"
   ]
  },
  {
   "cell_type": "code",
   "execution_count": 6,
   "id": "ce9c0a4f-64fb-47ee-911f-f63072b27666",
   "metadata": {},
   "outputs": [],
   "source": [
    "# Calculate the p-value\n",
    "p_value = stats.norm.sf(abs(z_score)) * 2  # Two-tailed test\n"
   ]
  },
  {
   "cell_type": "code",
   "execution_count": 7,
   "id": "8b262893-f356-4eef-bf91-3e251d6d4d70",
   "metadata": {},
   "outputs": [
    {
     "name": "stdout",
     "output_type": "stream",
     "text": [
      "Sample Mean: 2.52\n",
      "Z-Score: 0.22\n",
      "P-Value: 0.8266\n"
     ]
    }
   ],
   "source": [
    "# Output results\n",
    "print(f'Sample Mean: {sample_mean:.2f}')\n",
    "print(f'Z-Score: {z_score:.2f}')\n",
    "print(f'P-Value: {p_value:.4f}')"
   ]
  },
  {
   "cell_type": "code",
   "execution_count": 8,
   "id": "6e0d0011-2111-4bcf-8b23-c2325b0ac942",
   "metadata": {},
   "outputs": [
    {
     "name": "stdout",
     "output_type": "stream",
     "text": [
      "Fail to reject the null hypothesis: There is no significant difference in the average weight.\n"
     ]
    }
   ],
   "source": [
    "# Check if the result is significant at alpha = 0.05\n",
    "alpha = 0.05\n",
    "if p_value < alpha:\n",
    "    print(\"Reject the null hypothesis: There is a significant difference in the average weight.\")\n",
    "else:\n",
    "    print(\"Fail to reject the null hypothesis: There is no significant difference in the average weight.\")"
   ]
  },
  {
   "cell_type": "markdown",
   "id": "1b2404b6-080d-4bbc-9684-feda3ef23222",
   "metadata": {},
   "source": [
    "The calculations provide the following results:\r\n",
    "Sample Mean: 2.52 kg\r\n",
    "Z-Score: 0.22\r\n",
    "P-Value: 0.8266\r\n",
    "Since the p-value (0.8266) is much greater than the common significance level of 0.05, we fail to reject the null hypothesis. This indicates that there is no significant difference in the average weight of the rabbits in this sample compared to the known population mean\r\n"
   ]
  },
  {
   "cell_type": "code",
   "execution_count": null,
   "id": "370e8fd4-4679-4c20-8b74-db2f6c41986a",
   "metadata": {},
   "outputs": [],
   "source": []
  }
 ],
 "metadata": {
  "kernelspec": {
   "display_name": "Python 3 (ipykernel)",
   "language": "python",
   "name": "python3"
  },
  "language_info": {
   "codemirror_mode": {
    "name": "ipython",
    "version": 3
   },
   "file_extension": ".py",
   "mimetype": "text/x-python",
   "name": "python",
   "nbconvert_exporter": "python",
   "pygments_lexer": "ipython3",
   "version": "3.11.7"
  }
 },
 "nbformat": 4,
 "nbformat_minor": 5
}
