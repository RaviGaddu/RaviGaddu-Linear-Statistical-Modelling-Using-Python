{
 "cells": [
  {
   "cell_type": "markdown",
   "id": "1ffb7392-1690-4d5c-ab7f-7cf180370de8",
   "metadata": {},
   "source": [
    "hypothetical Poisson-distributed data related to pet tigers. The Poisson distribution is often used to model the number of events occurring within a fixed interval of time or space, given a constant average rate of occurrence.\r\n"
   ]
  },
  {
   "cell_type": "markdown",
   "id": "687baf90-2c9c-46fe-aa04-a0727a6102bb",
   "metadata": {},
   "source": [
    "Scenario: Suppose we are interested in the number of new pet tigers that are adopted each month by a specific animal shelter. We assume that the average rate at which new pet tigers are adopted is 3 per month. We will use the Poisson distribution to generate data for 12 months."
   ]
  },
  {
   "cell_type": "markdown",
   "id": "08ee215f-6600-4033-ade4-c055791fb24b",
   "metadata": {},
   "source": [
    "Parameters\n",
    "Average rate (λ): 3 pet tigers per month\n",
    "Data Generation\n",
    "Using the Poisson distribution with λ = 3, we generate the number of new pet tigers adopted each month for a year. Here is some simulated data:\n",
    "Month\n",
    "New Pet Tigers Adopted\n",
    "1\n",
    "2\n",
    "2\n",
    "4\n",
    "3\n",
    "3\n",
    "4\n",
    "1\n",
    "5\n",
    "5\n",
    "6\n",
    "3\n",
    "7\n",
    "2\n",
    "8\n",
    "6\n",
    "9\n",
    "3\n",
    "10\n",
    "4\n",
    "11\n",
    "2\n",
    "12\n",
    "7"
   ]
  },
  {
   "cell_type": "markdown",
   "id": "8aac10db-5112-4ea2-b336-f24d4229acbd",
   "metadata": {},
   "source": [
    "This dataset is generated with the Poisson distribution in mind, but the specific values can vary each time you generate new data because Poisson data is inherently random. The mean number of new adoptions per month should approximate to the rate parameter (λ = 3) over many samples.\n"
   ]
  },
  {
   "cell_type": "code",
   "execution_count": 2,
   "id": "6eb87559-7249-473a-9d29-0b5ff0106aa9",
   "metadata": {},
   "outputs": [],
   "source": [
    "import pandas as pd\n",
    "import numpy as np\n",
    "import statsmodels.api as sm\n",
    "import statsmodels.formula.api as smf\n"
   ]
  },
  {
   "cell_type": "code",
   "execution_count": 3,
   "id": "6ebd2a18-0f8f-4614-be99-7beaf7f06a12",
   "metadata": {},
   "outputs": [],
   "source": [
    "# Step 1: Prepare the data\n",
    "data = {\n",
    "    'Month': np.arange(1, 13),\n",
    "    'New_Pet_Tigers_Adopted': [2, 4, 3, 1, 5, 3, 2, 6, 3, 4, 2, 7]\n",
    "}\n",
    "\n",
    "df = pd.DataFrame(data)"
   ]
  },
  {
   "cell_type": "code",
   "execution_count": 4,
   "id": "1c19343e-d790-4bfb-b553-bdaba7523138",
   "metadata": {},
   "outputs": [],
   "source": [
    "\n",
    "# Step 2: Fit the Poisson GLM\n",
    "# Define the model formula\n",
    "model = smf.poisson('New_Pet_Tigers_Adopted ~ Month', data=df)\n"
   ]
  },
  {
   "cell_type": "code",
   "execution_count": 5,
   "id": "d8f8cd1a-21c5-4b6c-811c-f3de7f07f430",
   "metadata": {},
   "outputs": [
    {
     "name": "stdout",
     "output_type": "stream",
     "text": [
      "Optimization terminated successfully.\n",
      "         Current function value: 1.858374\n",
      "         Iterations 5\n"
     ]
    }
   ],
   "source": [
    "# Fit the model\n",
    "results = model.fit()"
   ]
  },
  {
   "cell_type": "code",
   "execution_count": 6,
   "id": "80180a6a-cb2b-48a7-8148-664b367bc571",
   "metadata": {},
   "outputs": [
    {
     "name": "stdout",
     "output_type": "stream",
     "text": [
      "                            Poisson Regression Results                            \n",
      "==================================================================================\n",
      "Dep. Variable:     New_Pet_Tigers_Adopted   No. Observations:                   12\n",
      "Model:                            Poisson   Df Residuals:                       10\n",
      "Method:                               MLE   Df Model:                            1\n",
      "Date:                    Thu, 04 Jul 2024   Pseudo R-squ.:                 0.03405\n",
      "Time:                            20:31:48   Log-Likelihood:                -22.300\n",
      "converged:                           True   LL-Null:                       -23.087\n",
      "Covariance Type:                nonrobust   LLR p-value:                    0.2099\n",
      "==============================================================================\n",
      "                 coef    std err          z      P>|z|      [0.025      0.975]\n",
      "------------------------------------------------------------------------------\n",
      "Intercept      0.8675      0.359      2.417      0.016       0.164       1.571\n",
      "Month          0.0564      0.045      1.247      0.212      -0.032       0.145\n",
      "==============================================================================\n"
     ]
    }
   ],
   "source": [
    "# Step 3: Print the summary of the model\n",
    "print(results.summary())"
   ]
  },
  {
   "cell_type": "code",
   "execution_count": 7,
   "id": "fb831845-4ced-4679-a2e5-f5b8c8c93165",
   "metadata": {},
   "outputs": [
    {
     "data": {
      "text/html": [
       "<table class=\"simpletable\">\n",
       "<caption>Poisson Regression Results</caption>\n",
       "<tr>\n",
       "  <th>Dep. Variable:</th>   <td>New_Pet_Tigers_Adopted</td> <th>  No. Observations:  </th>  <td>    12</td> \n",
       "</tr>\n",
       "<tr>\n",
       "  <th>Model:</th>                   <td>Poisson</td>        <th>  Df Residuals:      </th>  <td>    10</td> \n",
       "</tr>\n",
       "<tr>\n",
       "  <th>Method:</th>                    <td>MLE</td>          <th>  Df Model:          </th>  <td>     1</td> \n",
       "</tr>\n",
       "<tr>\n",
       "  <th>Date:</th>               <td>Thu, 04 Jul 2024</td>    <th>  Pseudo R-squ.:     </th>  <td>0.03405</td>\n",
       "</tr>\n",
       "<tr>\n",
       "  <th>Time:</th>                   <td>20:34:55</td>        <th>  Log-Likelihood:    </th> <td> -22.300</td>\n",
       "</tr>\n",
       "<tr>\n",
       "  <th>converged:</th>                <td>True</td>          <th>  LL-Null:           </th> <td> -23.087</td>\n",
       "</tr>\n",
       "<tr>\n",
       "  <th>Covariance Type:</th>        <td>nonrobust</td>       <th>  LLR p-value:       </th>  <td>0.2099</td> \n",
       "</tr>\n",
       "</table>\n",
       "<table class=\"simpletable\">\n",
       "<tr>\n",
       "      <td></td>         <th>coef</th>     <th>std err</th>      <th>z</th>      <th>P>|z|</th>  <th>[0.025</th>    <th>0.975]</th>  \n",
       "</tr>\n",
       "<tr>\n",
       "  <th>Intercept</th> <td>    0.8675</td> <td>    0.359</td> <td>    2.417</td> <td> 0.016</td> <td>    0.164</td> <td>    1.571</td>\n",
       "</tr>\n",
       "<tr>\n",
       "  <th>Month</th>     <td>    0.0564</td> <td>    0.045</td> <td>    1.247</td> <td> 0.212</td> <td>   -0.032</td> <td>    0.145</td>\n",
       "</tr>\n",
       "</table>"
      ],
      "text/latex": [
       "\\begin{center}\n",
       "\\begin{tabular}{lclc}\n",
       "\\toprule\n",
       "\\textbf{Dep. Variable:}   & New\\_Pet\\_Tigers\\_Adopted & \\textbf{  No. Observations:  } &       12    \\\\\n",
       "\\textbf{Model:}           &          Poisson          & \\textbf{  Df Residuals:      } &       10    \\\\\n",
       "\\textbf{Method:}          &            MLE            & \\textbf{  Df Model:          } &        1    \\\\\n",
       "\\textbf{Date:}            &      Thu, 04 Jul 2024     & \\textbf{  Pseudo R-squ.:     } &  0.03405    \\\\\n",
       "\\textbf{Time:}            &          20:34:55         & \\textbf{  Log-Likelihood:    } &   -22.300   \\\\\n",
       "\\textbf{converged:}       &            True           & \\textbf{  LL-Null:           } &   -23.087   \\\\\n",
       "\\textbf{Covariance Type:} &         nonrobust         & \\textbf{  LLR p-value:       } &   0.2099    \\\\\n",
       "\\bottomrule\n",
       "\\end{tabular}\n",
       "\\begin{tabular}{lcccccc}\n",
       "                   & \\textbf{coef} & \\textbf{std err} & \\textbf{z} & \\textbf{P$> |$z$|$} & \\textbf{[0.025} & \\textbf{0.975]}  \\\\\n",
       "\\midrule\n",
       "\\textbf{Intercept} &       0.8675  &        0.359     &     2.417  &         0.016        &        0.164    &        1.571     \\\\\n",
       "\\textbf{Month}     &       0.0564  &        0.045     &     1.247  &         0.212        &       -0.032    &        0.145     \\\\\n",
       "\\bottomrule\n",
       "\\end{tabular}\n",
       "%\\caption{Poisson Regression Results}\n",
       "\\end{center}"
      ],
      "text/plain": [
       "<class 'statsmodels.iolib.summary.Summary'>\n",
       "\"\"\"\n",
       "                            Poisson Regression Results                            \n",
       "==================================================================================\n",
       "Dep. Variable:     New_Pet_Tigers_Adopted   No. Observations:                   12\n",
       "Model:                            Poisson   Df Residuals:                       10\n",
       "Method:                               MLE   Df Model:                            1\n",
       "Date:                    Thu, 04 Jul 2024   Pseudo R-squ.:                 0.03405\n",
       "Time:                            20:34:55   Log-Likelihood:                -22.300\n",
       "converged:                           True   LL-Null:                       -23.087\n",
       "Covariance Type:                nonrobust   LLR p-value:                    0.2099\n",
       "==============================================================================\n",
       "                 coef    std err          z      P>|z|      [0.025      0.975]\n",
       "------------------------------------------------------------------------------\n",
       "Intercept      0.8675      0.359      2.417      0.016       0.164       1.571\n",
       "Month          0.0564      0.045      1.247      0.212      -0.032       0.145\n",
       "==============================================================================\n",
       "\"\"\""
      ]
     },
     "execution_count": 7,
     "metadata": {},
     "output_type": "execute_result"
    }
   ],
   "source": [
    "results.summary()"
   ]
  },
  {
   "cell_type": "code",
   "execution_count": 8,
   "id": "e2571fde-d1d0-40a7-9252-8b87d2270d88",
   "metadata": {},
   "outputs": [
    {
     "name": "stdout",
     "output_type": "stream",
     "text": [
      "Optimization terminated successfully.\n",
      "         Current function value: 1.858374\n",
      "         Iterations 5\n",
      "                            Poisson Regression Results                            \n",
      "==================================================================================\n",
      "Dep. Variable:     New_Pet_Tigers_Adopted   No. Observations:                   12\n",
      "Model:                            Poisson   Df Residuals:                       10\n",
      "Method:                               MLE   Df Model:                            1\n",
      "Date:                    Thu, 04 Jul 2024   Pseudo R-squ.:                 0.03405\n",
      "Time:                            20:36:44   Log-Likelihood:                -22.300\n",
      "converged:                           True   LL-Null:                       -23.087\n",
      "Covariance Type:                nonrobust   LLR p-value:                    0.2099\n",
      "==============================================================================\n",
      "                 coef    std err          z      P>|z|      [0.025      0.975]\n",
      "------------------------------------------------------------------------------\n",
      "Intercept      0.8675      0.359      2.417      0.016       0.164       1.571\n",
      "Month          0.0564      0.045      1.247      0.212      -0.032       0.145\n",
      "==============================================================================\n"
     ]
    }
   ],
   "source": [
    "import pandas as pd\n",
    "import numpy as np\n",
    "import statsmodels.api as sm\n",
    "import statsmodels.formula.api as smf\n",
    "\n",
    "# Step 1: Prepare the data\n",
    "data = {\n",
    "    'Month': np.arange(1, 13),\n",
    "    'New_Pet_Tigers_Adopted': [2, 4, 3, 1, 5, 3, 2, 6, 3, 4, 2, 7]\n",
    "}\n",
    "\n",
    "df = pd.DataFrame(data)\n",
    "\n",
    "# Step 2: Fit the Poisson GLM\n",
    "# Define the model formula\n",
    "model = smf.poisson('New_Pet_Tigers_Adopted ~ Month', data=df)\n",
    "\n",
    "# Fit the model\n",
    "results = model.fit()\n",
    "\n",
    "# Step 3: Print the summary of the model\n",
    "print(results.summary())"
   ]
  },
  {
   "cell_type": "markdown",
   "id": "a8d778e2-03a6-4374-b8c3-fe1c63072389",
   "metadata": {},
   "source": [
    "Model Information:\n",
    "Dep. Variable: The dependent variable (response variable) is New_Pet_Tigers_Adopted, which represents the number of new pet tigers adopted each month.\n",
    "No. Observations: The number of data points used in the model, which is 12 (one for each month).\n",
    "Df Residuals: Degrees of freedom for residuals, which is the number of observations minus the number of parameters estimated (here, 12 - 2 = 10).\n",
    "Df Model: Degrees of freedom for the model, which is the number of predictors (here, 1 for Month).\n",
    "Model Family: Indicates the model is a Poisson regression.\n",
    "Method: The method used for fitting the model.\n",
    "Log-Likelihood: The log-likelihood of the fitted model is -22.300. This value helps assess the model fit but is usually used in comparison to other models.\n",
    "Pseudo R-squ.: This is a measure of model fit, analogous to R-squared in linear regression. A value of 0.03405 suggests that about 3% of the variability in the response variable is explained by the model.\n",
    "LL-Null: The log-likelihood of the null model (a model with no predictors), which is -23.087. This is used to compare with the log-likelihood of the fitted model to assess model improvement.\n",
    "Covariance Type: Indicates the type of covariance used in the standard errors calculations, which is nonrobust in this case.\n",
    "LLR p-value: The p-value for the likelihood ratio test comparing the fitted model to the null model. A value of 0.2099 indicates that the model does not significantly improve fit over the null model."
   ]
  },
  {
   "cell_type": "code",
   "execution_count": null,
   "id": "f8f62bad-c9f1-4bba-90f8-4032586743ea",
   "metadata": {},
   "outputs": [],
   "source": []
  }
 ],
 "metadata": {
  "kernelspec": {
   "display_name": "Python 3 (ipykernel)",
   "language": "python",
   "name": "python3"
  },
  "language_info": {
   "codemirror_mode": {
    "name": "ipython",
    "version": 3
   },
   "file_extension": ".py",
   "mimetype": "text/x-python",
   "name": "python",
   "nbconvert_exporter": "python",
   "pygments_lexer": "ipython3",
   "version": "3.11.7"
  }
 },
 "nbformat": 4,
 "nbformat_minor": 5
}
