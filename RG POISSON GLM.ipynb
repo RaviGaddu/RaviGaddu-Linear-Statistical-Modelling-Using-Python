{
 "cells": [
  {
   "cell_type": "markdown",
   "id": "bd79b52c-9647-40c0-86ef-ffc1ab145358",
   "metadata": {},
   "source": [
    "Poisson Generalized Linear Model (GLM)\n",
    "\n",
    "The Poisson GLM is typically used for count data, where the response variable represents counts of events occurring within a fixed period of time or space.\n",
    "\n",
    "Response Variable: Count of a certain event (e.g., number of species observed in a specific area).\n",
    "Predictor Variables: Environmental factors such as temperature, precipitation, and elevation.\n",
    "\n",
    "Generate Predictor Variables:\n",
    "Temperature: Continuous variable ranging from 0 to 30 degrees Celsius.\n",
    "Precipitation: Continuous variable ranging from 0 to 200 mm.\n",
    "Elevation: Continuous variable ranging from 0 to 3000 meters.\n",
    "\n",
    "dataset with 1000 observations, which includes the predictor variables (Temperature, Precipitation, Elevation) and the response variable (Counts).\n",
    "This code will create a dataset with 1000 observations, where each observation is a count generated from a Poisson distribution with a mean (λ) of 5."
   ]
  },
  {
   "cell_type": "markdown",
   "id": "1f3488d1-f2c9-47b7-ac87-44f297b5ee36",
   "metadata": {},
   "source": [
    "import numpy as np\n",
    "import pandas as pd\n",
    "import statsmodels.api as sm\n",
    "\n",
    "# Set random seed for reproducibility\n",
    "np.random.seed(42)\n",
    "\n",
    "# Generate predictor variables\n",
    "n_samples = 1000\n",
    "temperature = np.random.uniform(0, 30, n_samples)\n",
    "precipitation = np.random.uniform(0, 200, n_samples)\n",
    "elevation = np.random.uniform(0, 3000, n_samples)\n",
    "\n",
    "# Define the coefficients for the linear combination\n",
    "beta_0 = 1.5  # intercept\n",
    "beta_temp = 0.1\n",
    "beta_precip = 0.05\n",
    "beta_elev = -0.0005\n",
    "\n",
    "# Calculate the expected count (lambda) for the Poisson distribution\n",
    "lambda_ = np.exp(beta_0 + beta_temp * temperature + beta_precip * precipitation + beta_elev * elevation)\n",
    "\n",
    "# Generate the observed counts using the Poisson distribution\n",
    "counts = np.random.poisson(lambda_)\n",
    "\n",
    "# Create a DataFrame\n",
    "data = pd.DataFrame({\n",
    "    'Temperature': temperature,\n",
    "    'Precipitation': precipitation,\n",
    "    'Elevation': elevation,\n",
    "    'Counts': counts\n",
    "})\n",
    "\n",
    "# Prepare data for modeling\n",
    "X = data[['Temperature', 'Precipitation', 'Elevation']]\n",
    "X = sm.add_constant(X)  # Adds a constant term to the predictors\n",
    "y = data['Counts']\n",
    "\n",
    "# Fit the Poisson GLM\n",
    "poisson_model = sm.GLM(y, X, family=sm.families.Poisson())\n",
    "poisson_results = poisson_model.fit()\n",
    "\n",
    "# View the model summary\n",
    "print(poisson_results.summary())\n"
   ]
  },
  {
   "cell_type": "markdown",
   "id": "18379368-fc60-4a15-ba4f-898e1df41b0d",
   "metadata": {},
   "source": [
    "Interpretation of Results\n",
    "Coefficients: The estimated effect of each predictor variable on the response variable. For example, the coefficient for Temperature shows the expected change in the log count for a one-unit increase in temperature.\n",
    "P-values: Help determine the statistical significance of each predictor. A small p-value (typically ≤ 0.05) indicates that you can reject the null hypothesis, suggesting the predictor is significantly associated with the response variable.\n",
    "Deviance and Pearson Chi-Square: These metrics can be used to assess the goodness of fit of the model.\n",
    "This approach allows you to perform Poisson regression using Python and analyze the effects of various predictor variables on the count data."
   ]
  },
  {
   "cell_type": "code",
   "execution_count": null,
   "id": "171be05f-f988-42f8-9f5c-367526c7e887",
   "metadata": {},
   "outputs": [],
   "source": []
  }
 ],
 "metadata": {
  "kernelspec": {
   "display_name": "Python 3 (ipykernel)",
   "language": "python",
   "name": "python3"
  },
  "language_info": {
   "codemirror_mode": {
    "name": "ipython",
    "version": 3
   },
   "file_extension": ".py",
   "mimetype": "text/x-python",
   "name": "python",
   "nbconvert_exporter": "python",
   "pygments_lexer": "ipython3",
   "version": "3.11.7"
  }
 },
 "nbformat": 4,
 "nbformat_minor": 5
}
