{
 "cells": [
  {
   "cell_type": "markdown",
   "id": "2545628e-6a8e-4d18-9f36-a75f8c0c0fda",
   "metadata": {},
   "source": [
    "Suppose you have an experiment with 4 different fertilizers (treatments) applied to crops in 5 different fields (blocks). You want to determine if there is a significant effect of fertilizer type on crop yield, accounting for the variability between fields\r\n"
   ]
  },
  {
   "cell_type": "code",
   "execution_count": 10,
   "id": "4d3f420c-9623-4502-8367-a4f631250d86",
   "metadata": {},
   "outputs": [
    {
     "name": "stdout",
     "output_type": "stream",
     "text": [
      "Requirement already satisfied: statsmodels in c:\\users\\user\\anaconda3\\lib\\site-packages (0.14.0)\n",
      "Requirement already satisfied: pandas in c:\\users\\user\\anaconda3\\lib\\site-packages (2.1.4)\n",
      "Requirement already satisfied: numpy>=1.18 in c:\\users\\user\\anaconda3\\lib\\site-packages (from statsmodels) (1.26.4)\n",
      "Requirement already satisfied: scipy!=1.9.2,>=1.4 in c:\\users\\user\\anaconda3\\lib\\site-packages (from statsmodels) (1.11.4)\n",
      "Requirement already satisfied: patsy>=0.5.2 in c:\\users\\user\\anaconda3\\lib\\site-packages (from statsmodels) (0.5.3)\n",
      "Requirement already satisfied: packaging>=21.3 in c:\\users\\user\\anaconda3\\lib\\site-packages (from statsmodels) (23.1)\n",
      "Requirement already satisfied: python-dateutil>=2.8.2 in c:\\users\\user\\anaconda3\\lib\\site-packages (from pandas) (2.8.2)\n",
      "Requirement already satisfied: pytz>=2020.1 in c:\\users\\user\\anaconda3\\lib\\site-packages (from pandas) (2023.3.post1)\n",
      "Requirement already satisfied: tzdata>=2022.1 in c:\\users\\user\\anaconda3\\lib\\site-packages (from pandas) (2023.3)\n",
      "Requirement already satisfied: six in c:\\users\\user\\anaconda3\\lib\\site-packages (from patsy>=0.5.2->statsmodels) (1.16.0)\n",
      "Note: you may need to restart the kernel to use updated packages.\n"
     ]
    }
   ],
   "source": [
    "pip install statsmodels pandas"
   ]
  },
  {
   "cell_type": "code",
   "execution_count": 11,
   "id": "fe3e03bd-f6ee-4ddd-9646-d04dd6f025f0",
   "metadata": {},
   "outputs": [
    {
     "name": "stdout",
     "output_type": "stream",
     "text": [
      "                   sum_sq    df          F    PR(>F)\n",
      "C(Treatment)  1486.236589   3.0  36.752050  0.000003\n",
      "C(Block)        82.810038   4.0   1.535811  0.253786\n",
      "Residual       161.758224  12.0        NaN       NaN\n"
     ]
    }
   ],
   "source": [
    "\n",
    "\n",
    "import numpy as np\n",
    "import pandas as pd\n",
    "import statsmodels.api as sm\n",
    "from statsmodels.formula.api import ols\n",
    "\n",
    "# Set random seed for reproducibility\n",
    "np.random.seed(42)\n",
    "\n",
    "# Create a synthetic dataset\n",
    "blocks = np.tile(np.arange(1, 6), 4)  # 5 blocks (fields), repeated for each treatment\n",
    "treatments = np.repeat(['Fertilizer_A', 'Fertilizer_B', 'Fertilizer_C', 'Fertilizer_D'], 5)\n",
    "\n",
    "# Generate some synthetic crop yield data with random noise\n",
    "yields = np.random.normal(loc=50, scale=5, size=20) + \\\n",
    "         np.repeat([10, 20, 30, 40], 5)  # Different base yields for different fertilizers\n",
    "\n",
    "data = pd.DataFrame({\n",
    "    'Block': blocks,\n",
    "    'Treatment': treatments,\n",
    "    'Yield': yields\n",
    "})\n",
    "\n",
    "# Fit the ANOVA model\n",
    "model = ols('Yield ~ C(Treatment) + C(Block)', data=data).fit()\n",
    "anova_table = sm.stats.anova_lm(model, typ=2)\n",
    "\n",
    "print(anova_table)"
   ]
  },
  {
   "cell_type": "markdown",
   "id": "fc605eea-4919-4df2-a7e3-14322dcb21b7",
   "metadata": {},
   "source": [
    "interpretation of Results\n",
    "C(Treatment): This row shows the variation due to different treatments (fertilizers). The F-value and p-value indicate whether there are significant differences between the treatment means.\n",
    "C(Block): This row shows the variation due to different blocks (fields). This accounts for the variability between blocks.\n",
    "Residual: This shows the remaining variation not explained by the treatments or blocks.\n",
    "If the p-value for C(Treatment) is less than the significance level (e.g., 0.05), you can conclude that there are significant differences between the means of the different treatments.\n",
    "This example demonstrates how to perform ANOVA for a randomized block design using Python. Adjust the data generation part to match your actual experimental data for real-world applications."
   ]
  }
 ],
 "metadata": {
  "kernelspec": {
   "display_name": "Python 3 (ipykernel)",
   "language": "python",
   "name": "python3"
  },
  "language_info": {
   "codemirror_mode": {
    "name": "ipython",
    "version": 3
   },
   "file_extension": ".py",
   "mimetype": "text/x-python",
   "name": "python",
   "nbconvert_exporter": "python",
   "pygments_lexer": "ipython3",
   "version": "3.11.7"
  }
 },
 "nbformat": 4,
 "nbformat_minor": 5
}
