{
 "cells": [
  {
   "cell_type": "markdown",
   "id": "8ca751c9-1184-4a9d-bf86-8f0475f9c745",
   "metadata": {},
   "source": [
    "There are two groups of plants, one grown under natural sunlight and the other grown under artificial light. We have the measure of the height of the plants after a certain period.\r\n",
    "\r\n",
    "\"Plant ID\" is a unique identifier for each plant.\r\n",
    "\"Light Condition\" indicates whether the plant was grown under natural sunlight or artificial light.\r\n",
    "\"Height (cm)\" is the height of the plant measured in centimeters."
   ]
  },
  {
   "cell_type": "code",
   "execution_count": 1,
   "id": "3f8cec72-1e95-48ec-8539-8d289c63177f",
   "metadata": {},
   "outputs": [],
   "source": [
    "import numpy as np\n",
    "from scipy.stats import ttest_ind\n"
   ]
  },
  {
   "cell_type": "code",
   "execution_count": 3,
   "id": "7733510b-82d8-48ad-bbc8-8bd99adba33a",
   "metadata": {},
   "outputs": [],
   "source": [
    "# Create the dataset\n",
    "data = {\n",
    "    'Plant ID': list(range(1, 21)),\n",
    "    'Light Condition': ['Natural Sunlight'] * 10 + ['Artificial Light'] * 10,\n",
    "    'Height (cm)': [15.2, 14.8, 16.0, 15.5, 14.9, 15.3, 15.1, 15.7, 15.4, 14.6,\n",
    "                    13.5, 13.8, 13.7, 13.9, 13.4, 13.6, 13.8, 13.5, 13.7, 13.9]\n",
    "}"
   ]
  },
  {
   "cell_type": "code",
   "execution_count": 4,
   "id": "315919cf-c4d4-4d7d-ae3f-d57b73a1f867",
   "metadata": {},
   "outputs": [],
   "source": [
    "# Separate the data based on the light condition\n",
    "sunlight_heights = [data['Height (cm)'][i] for i in range(20) if data['Light Condition'][i] == 'Natural Sunlight']\n",
    "artificial_heights = [data['Height (cm)'][i] for i in range(20) if data['Light Condition'][i] == 'Artificial Light']\n"
   ]
  },
  {
   "cell_type": "code",
   "execution_count": 5,
   "id": "42e50e53-d4f3-48b0-81de-3e477a9bf8d9",
   "metadata": {},
   "outputs": [],
   "source": [
    "# Perform the two-sample t-test\n",
    "t_stat, p_value = ttest_ind(sunlight_heights, artificial_heights)"
   ]
  },
  {
   "cell_type": "code",
   "execution_count": 6,
   "id": "1c89d61e-f57b-4710-bfc8-c70bd9c8ba58",
   "metadata": {},
   "outputs": [
    {
     "name": "stdout",
     "output_type": "stream",
     "text": [
      "T-statistic: 10.802638639615626\n",
      "P-value: 2.6875822061648967e-09\n"
     ]
    }
   ],
   "source": [
    "# Output the results\n",
    "print(f\"T-statistic: {t_stat}\")\n",
    "print(f\"P-value: {p_value}\")\n"
   ]
  },
  {
   "cell_type": "code",
   "execution_count": 7,
   "id": "fe1c2093-aa7d-4f45-ba61-4bccbced4893",
   "metadata": {},
   "outputs": [
    {
     "name": "stdout",
     "output_type": "stream",
     "text": [
      "Reject the null hypothesis: There is a significant difference in plant heights between the two light conditions.\n"
     ]
    }
   ],
   "source": [
    "# Interpret the results\n",
    "alpha = 0.05\n",
    "if p_value < alpha:\n",
    "    print(\"Reject the null hypothesis: There is a significant difference in plant heights between the two light conditions.\")\n",
    "else:\n",
    "    print(\"Fail to reject the null hypothesis: There is no significant difference in plant heights between the two light conditions.\")"
   ]
  },
  {
   "cell_type": "code",
   "execution_count": null,
   "id": "be9985a0-c652-4f11-95e0-a8eb0ebc5b00",
   "metadata": {},
   "outputs": [],
   "source": []
  }
 ],
 "metadata": {
  "kernelspec": {
   "display_name": "Python 3 (ipykernel)",
   "language": "python",
   "name": "python3"
  },
  "language_info": {
   "codemirror_mode": {
    "name": "ipython",
    "version": 3
   },
   "file_extension": ".py",
   "mimetype": "text/x-python",
   "name": "python",
   "nbconvert_exporter": "python",
   "pygments_lexer": "ipython3",
   "version": "3.11.7"
  }
 },
 "nbformat": 4,
 "nbformat_minor": 5
}
