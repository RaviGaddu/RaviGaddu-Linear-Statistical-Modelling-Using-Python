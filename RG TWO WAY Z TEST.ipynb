{
 "cells": [
  {
   "cell_type": "markdown",
   "id": "c82559e2-9a99-4ee0-9f9d-d2bb9ea0e92f",
   "metadata": {},
   "source": [
    "Scenario: We want to test if there is a significant difference in the average weight of wolves between two regions (Region A and Region B) and if there's a difference between male and female wolves within these regions . Datns: Region (A or B) Gender (Male or Female) Weight ( in kg)"
   ]
  },
  {
   "cell_type": "code",
   "execution_count": 1,
   "id": "71bc8eb6-0121-424c-9bd7-2b00e65dcead",
   "metadata": {},
   "outputs": [],
   "source": [
    "import numpy as np\n",
    "from scipy import stats"
   ]
  },
  {
   "cell_type": "code",
   "execution_count": 2,
   "id": "a7037fb4-6b28-405a-b380-e4447f5c041a",
   "metadata": {},
   "outputs": [],
   "source": [
    "# Given data\n",
    "data = [\n",
    "    {'Region': 'A', 'Gender': 'Male', 'Weight': 40.5},\n",
    "    {'Region': 'A', 'Gender': 'Female', 'Weight': 38.2},\n",
    "    {'Region': 'A', 'Gender': 'Male', 'Weight': 42.0},\n",
    "    {'Region': 'A', 'Gender': 'Female', 'Weight': 37.5},\n",
    "    {'Region': 'A', 'Gender': 'Male', 'Weight': 41.3},\n",
    "    {'Region': 'A', 'Gender': 'Female', 'Weight': 36.7},\n",
    "    {'Region': 'B', 'Gender': 'Male', 'Weight': 45.2},\n",
    "    {'Region': 'B', 'Gender': 'Female', 'Weight': 43.0},\n",
    "    {'Region': 'B', 'Gender': 'Male', 'Weight': 46.5},\n",
    "    {'Region': 'B', 'Gender': 'Female', 'Weight': 42.8},\n",
    "    {'Region': 'B', 'Gender': 'Male', 'Weight': 44.1},\n",
    "    {'Region': 'B', 'Gender': 'Female', 'Weight': 41.7}\n",
    "]"
   ]
  },
  {
   "cell_type": "code",
   "execution_count": 3,
   "id": "0b065f08-be0e-4c6d-b763-767a43a394b4",
   "metadata": {},
   "outputs": [],
   "source": [
    "# Convert data to numpy arrays for easier manipulation\n",
    "weights_A = np.array([d['Weight'] for d in data if d['Region'] == 'A'])\n",
    "weights_B = np.array([d['Weight'] for d in data if d['Region'] == 'B'])\n",
    "\n",
    "weights_male = np.array([d['Weight'] for d in data if d['Gender'] == 'Male'])\n",
    "weights_female = np.array([d['Weight'] for d in data if d['Gender'] == 'Female'])\n"
   ]
  },
  {
   "cell_type": "code",
   "execution_count": 4,
   "id": "71892c66-c1e4-4d47-9d3e-cdaa972ed22f",
   "metadata": {},
   "outputs": [],
   "source": [
    "# Function to calculate the Z-test\n",
    "def z_test(group1, group2):\n",
    "    mean1, mean2 = np.mean(group1), np.mean(group2)\n",
    "    std1, std2 = np.std(group1, ddof=1), np.std(group2, ddof=1)\n",
    "    n1, n2 = len(group1), len(group2)\n",
    "   \n",
    "    pooled_std = np.sqrt(std1**2/n1 + std2**2/n2)\n",
    "    z_score = (mean1 - mean2) / pooled_std\n",
    "    p_value = stats.norm.sf(abs(z_score)) * 2  # two-tailed p-value\n",
    "   \n",
    "    return z_score, p_value"
   ]
  },
  {
   "cell_type": "code",
   "execution_count": 5,
   "id": "465bf313-731c-40e2-a86a-db6b40af6fc8",
   "metadata": {},
   "outputs": [],
   "source": [
    "# Perform Z-tests\n",
    "z_region, p_region = z_test(weights_A, weights_B)\n",
    "z_gender, p_gender = z_test(weights_male, weights_female)"
   ]
  },
  {
   "cell_type": "code",
   "execution_count": 6,
   "id": "7f31bac2-da5c-4b3b-b1a5-723bdf2b7c32",
   "metadata": {},
   "outputs": [
    {
     "name": "stdout",
     "output_type": "stream",
     "text": [
      "Region Z-test: Z = -3.95, p = 0.0001\n",
      "Gender Z-test: Z = 2.18, p = 0.0293\n"
     ]
    }
   ],
   "source": [
    "# Output the results\n",
    "print(f\"Region Z-test: Z = {z_region:.2f}, p = {p_region:.4f}\")\n",
    "print(f\"Gender Z-test: Z = {z_gender:.2f}, p = {p_gender:.4f}\")"
   ]
  },
  {
   "cell_type": "markdown",
   "id": "85c29cc1-b13e-4dbb-8635-9d0ab6165be6",
   "metadata": {},
   "source": [
    "\n",
    "Region Hypothesis:\n",
    "The Z-score is -3.95, and the p-value is 0.0001.\n",
    "Since the p-value is less than 0.05, we reject the null hypothesis.\n",
    "This indicates that there is a significant difference in the average weight of wolves between Region A and Region B.\n",
    "\n",
    "\n",
    "Gender Hypothesis:\n",
    "The Z-score is 2.18, and the p-value is 0.0293.\n",
    "Since the p-value is less than 0.05, we reject the null hypothesis.\n",
    "This indicates that there is a significant difference in the average weight of male and female wolves."
   ]
  },
  {
   "cell_type": "code",
   "execution_count": null,
   "id": "b284d50f-16a5-4978-9a7c-291eee06c918",
   "metadata": {},
   "outputs": [],
   "source": []
  }
 ],
 "metadata": {
  "kernelspec": {
   "display_name": "Python 3 (ipykernel)",
   "language": "python",
   "name": "python3"
  },
  "language_info": {
   "codemirror_mode": {
    "name": "ipython",
    "version": 3
   },
   "file_extension": ".py",
   "mimetype": "text/x-python",
   "name": "python",
   "nbconvert_exporter": "python",
   "pygments_lexer": "ipython3",
   "version": "3.11.7"
  }
 },
 "nbformat": 4,
 "nbformat_minor": 5
}
